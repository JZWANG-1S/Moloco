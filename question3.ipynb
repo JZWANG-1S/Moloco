{
 "cells": [
  {
   "cell_type": "markdown",
   "metadata": {},
   "source": [
    "##### use Python Jupyter and Pandas library to deal with csv like data would be one of the most suitable ways."
   ]
  },
  {
   "cell_type": "code",
   "execution_count": 1,
   "metadata": {},
   "outputs": [],
   "source": [
    "import pandas as pd\n",
    "import collections"
   ]
  },
  {
   "cell_type": "code",
   "execution_count": 2,
   "metadata": {},
   "outputs": [
    {
     "data": {
      "text/html": [
       "<div>\n",
       "<style scoped>\n",
       "    .dataframe tbody tr th:only-of-type {\n",
       "        vertical-align: middle;\n",
       "    }\n",
       "\n",
       "    .dataframe tbody tr th {\n",
       "        vertical-align: top;\n",
       "    }\n",
       "\n",
       "    .dataframe thead th {\n",
       "        text-align: right;\n",
       "    }\n",
       "</style>\n",
       "<table border=\"1\" class=\"dataframe\">\n",
       "  <thead>\n",
       "    <tr style=\"text-align: right;\">\n",
       "      <th></th>\n",
       "      <th>ts</th>\n",
       "      <th>user_id</th>\n",
       "      <th>country_id</th>\n",
       "      <th>site_id</th>\n",
       "    </tr>\n",
       "  </thead>\n",
       "  <tbody>\n",
       "    <tr>\n",
       "      <th>0</th>\n",
       "      <td>2019-02-01 00:01:24</td>\n",
       "      <td>LC36FC</td>\n",
       "      <td>TL6</td>\n",
       "      <td>N0OTG</td>\n",
       "    </tr>\n",
       "    <tr>\n",
       "      <th>1</th>\n",
       "      <td>2019-02-01 00:10:19</td>\n",
       "      <td>LC39B6</td>\n",
       "      <td>TL6</td>\n",
       "      <td>N0OTG</td>\n",
       "    </tr>\n",
       "    <tr>\n",
       "      <th>2</th>\n",
       "      <td>2019-02-01 00:21:50</td>\n",
       "      <td>LC3500</td>\n",
       "      <td>TL6</td>\n",
       "      <td>N0OTG</td>\n",
       "    </tr>\n",
       "    <tr>\n",
       "      <th>3</th>\n",
       "      <td>2019-02-01 00:22:50</td>\n",
       "      <td>LC374F</td>\n",
       "      <td>TL6</td>\n",
       "      <td>N0OTG</td>\n",
       "    </tr>\n",
       "    <tr>\n",
       "      <th>4</th>\n",
       "      <td>2019-02-01 00:23:44</td>\n",
       "      <td>LCC1C3</td>\n",
       "      <td>TL6</td>\n",
       "      <td>QGO3G</td>\n",
       "    </tr>\n",
       "  </tbody>\n",
       "</table>\n",
       "</div>"
      ],
      "text/plain": [
       "                    ts user_id country_id site_id\n",
       "0  2019-02-01 00:01:24  LC36FC        TL6   N0OTG\n",
       "1  2019-02-01 00:10:19  LC39B6        TL6   N0OTG\n",
       "2  2019-02-01 00:21:50  LC3500        TL6   N0OTG\n",
       "3  2019-02-01 00:22:50  LC374F        TL6   N0OTG\n",
       "4  2019-02-01 00:23:44  LCC1C3        TL6   QGO3G"
      ]
     },
     "execution_count": 2,
     "metadata": {},
     "output_type": "execute_result"
    }
   ],
   "source": [
    "df = pd.read_csv('SWE sample data - Q3 data.csv')\n",
    "df.head()"
   ]
  },
  {
   "cell_type": "markdown",
   "metadata": {},
   "source": [
    "##### Q1"
   ]
  },
  {
   "cell_type": "code",
   "execution_count": 3,
   "metadata": {},
   "outputs": [
    {
     "data": {
      "text/html": [
       "<div>\n",
       "<style scoped>\n",
       "    .dataframe tbody tr th:only-of-type {\n",
       "        vertical-align: middle;\n",
       "    }\n",
       "\n",
       "    .dataframe tbody tr th {\n",
       "        vertical-align: top;\n",
       "    }\n",
       "\n",
       "    .dataframe thead th {\n",
       "        text-align: right;\n",
       "    }\n",
       "</style>\n",
       "<table border=\"1\" class=\"dataframe\">\n",
       "  <thead>\n",
       "    <tr style=\"text-align: right;\">\n",
       "      <th></th>\n",
       "      <th>ts</th>\n",
       "      <th>user_id</th>\n",
       "      <th>country_id</th>\n",
       "      <th>site_id</th>\n",
       "    </tr>\n",
       "  </thead>\n",
       "  <tbody>\n",
       "    <tr>\n",
       "      <th>13</th>\n",
       "      <td>2019-02-01 00:47:58</td>\n",
       "      <td>LC3C22</td>\n",
       "      <td>BDV</td>\n",
       "      <td>N0OTG</td>\n",
       "    </tr>\n",
       "    <tr>\n",
       "      <th>32</th>\n",
       "      <td>2019-02-01 02:46:15</td>\n",
       "      <td>LC375A</td>\n",
       "      <td>BDV</td>\n",
       "      <td>5NPAU</td>\n",
       "    </tr>\n",
       "    <tr>\n",
       "      <th>87</th>\n",
       "      <td>2019-02-01 06:44:42</td>\n",
       "      <td>LC392E</td>\n",
       "      <td>BDV</td>\n",
       "      <td>N0OTG</td>\n",
       "    </tr>\n",
       "    <tr>\n",
       "      <th>88</th>\n",
       "      <td>2019-02-01 07:36:56</td>\n",
       "      <td>LC3FAE</td>\n",
       "      <td>BDV</td>\n",
       "      <td>5NPAU</td>\n",
       "    </tr>\n",
       "    <tr>\n",
       "      <th>94</th>\n",
       "      <td>2019-02-01 08:58:35</td>\n",
       "      <td>LC3AFF</td>\n",
       "      <td>BDV</td>\n",
       "      <td>3POLC</td>\n",
       "    </tr>\n",
       "  </tbody>\n",
       "</table>\n",
       "</div>"
      ],
      "text/plain": [
       "                     ts user_id country_id site_id\n",
       "13  2019-02-01 00:47:58  LC3C22        BDV   N0OTG\n",
       "32  2019-02-01 02:46:15  LC375A        BDV   5NPAU\n",
       "87  2019-02-01 06:44:42  LC392E        BDV   N0OTG\n",
       "88  2019-02-01 07:36:56  LC3FAE        BDV   5NPAU\n",
       "94  2019-02-01 08:58:35  LC3AFF        BDV   3POLC"
      ]
     },
     "execution_count": 3,
     "metadata": {},
     "output_type": "execute_result"
    }
   ],
   "source": [
    "dfq = df.loc[df['country_id'] == 'BDV']\n",
    "dfq.head()"
   ]
  },
  {
   "cell_type": "code",
   "execution_count": 4,
   "metadata": {},
   "outputs": [
    {
     "name": "stdout",
     "output_type": "stream",
     "text": [
      "Which site_id has the largest number of unique users? And what's the number?\n",
      "[['5NPAU'], 544]\n"
     ]
    }
   ],
   "source": [
    "d = collections.defaultdict(set)\n",
    "ans = [[], -1]\n",
    "\n",
    "for i in range(len(dfq)):\n",
    "    site = dfq.iloc[i]['site_id']\n",
    "    user = dfq.iloc[i]['user_id']\n",
    "    d[site].add(user)\n",
    "    if len(d[site]) > ans[1]:\n",
    "        ans = [[site], len(d[site])]\n",
    "    elif len(d[site]) == ans[1]:\n",
    "        ans[0].append(site)\n",
    "    \n",
    "    \n",
    "print(\"Which site_id has the largest number of unique users? And what's the number?\")\n",
    "print(ans)"
   ]
  },
  {
   "cell_type": "markdown",
   "metadata": {},
   "source": [
    "##### Q2"
   ]
  },
  {
   "cell_type": "code",
   "execution_count": 5,
   "metadata": {},
   "outputs": [
    {
     "data": {
      "text/html": [
       "<div>\n",
       "<style scoped>\n",
       "    .dataframe tbody tr th:only-of-type {\n",
       "        vertical-align: middle;\n",
       "    }\n",
       "\n",
       "    .dataframe tbody tr th {\n",
       "        vertical-align: top;\n",
       "    }\n",
       "\n",
       "    .dataframe thead th {\n",
       "        text-align: right;\n",
       "    }\n",
       "</style>\n",
       "<table border=\"1\" class=\"dataframe\">\n",
       "  <thead>\n",
       "    <tr style=\"text-align: right;\">\n",
       "      <th></th>\n",
       "      <th>ts</th>\n",
       "      <th>user_id</th>\n",
       "      <th>country_id</th>\n",
       "      <th>site_id</th>\n",
       "    </tr>\n",
       "  </thead>\n",
       "  <tbody>\n",
       "    <tr>\n",
       "      <th>1049</th>\n",
       "      <td>2019-02-03 00:02:31</td>\n",
       "      <td>LC3C7E</td>\n",
       "      <td>TL6</td>\n",
       "      <td>3POLC</td>\n",
       "    </tr>\n",
       "    <tr>\n",
       "      <th>1050</th>\n",
       "      <td>2019-02-03 00:03:09</td>\n",
       "      <td>LC3C7E</td>\n",
       "      <td>TL6</td>\n",
       "      <td>3POLC</td>\n",
       "    </tr>\n",
       "    <tr>\n",
       "      <th>1051</th>\n",
       "      <td>2019-02-03 00:03:46</td>\n",
       "      <td>LC3C7E</td>\n",
       "      <td>TL6</td>\n",
       "      <td>3POLC</td>\n",
       "    </tr>\n",
       "    <tr>\n",
       "      <th>1052</th>\n",
       "      <td>2019-02-03 00:04:12</td>\n",
       "      <td>LC3C7E</td>\n",
       "      <td>TL6</td>\n",
       "      <td>3POLC</td>\n",
       "    </tr>\n",
       "    <tr>\n",
       "      <th>1053</th>\n",
       "      <td>2019-02-03 00:04:25</td>\n",
       "      <td>LC3C7E</td>\n",
       "      <td>TL6</td>\n",
       "      <td>3POLC</td>\n",
       "    </tr>\n",
       "  </tbody>\n",
       "</table>\n",
       "</div>"
      ],
      "text/plain": [
       "                       ts user_id country_id site_id\n",
       "1049  2019-02-03 00:02:31  LC3C7E        TL6   3POLC\n",
       "1050  2019-02-03 00:03:09  LC3C7E        TL6   3POLC\n",
       "1051  2019-02-03 00:03:46  LC3C7E        TL6   3POLC\n",
       "1052  2019-02-03 00:04:12  LC3C7E        TL6   3POLC\n",
       "1053  2019-02-03 00:04:25  LC3C7E        TL6   3POLC"
      ]
     },
     "execution_count": 5,
     "metadata": {},
     "output_type": "execute_result"
    }
   ],
   "source": [
    "dfq = df[(df['ts'] >= '2019-02-03 00:00:00') & (df['ts'] <= '2019-02-04 23:59:59')]\n",
    "dfq.head()"
   ]
  },
  {
   "cell_type": "code",
   "execution_count": 6,
   "metadata": {},
   "outputs": [],
   "source": [
    "d = collections.defaultdict(lambda: collections.Counter())\n",
    "ans = collections.defaultdict(dict)\n",
    "\n",
    "for i in range(len(dfq)):\n",
    "    user = dfq.iloc[i]['user_id']\n",
    "    site = dfq.iloc[i]['site_id']\n",
    "    d[user][site] += 1\n",
    "    if d[user][site] > 10:\n",
    "        ans[user][site] = d[user][site]"
   ]
  },
  {
   "cell_type": "code",
   "execution_count": 7,
   "metadata": {},
   "outputs": [
    {
     "name": "stdout",
     "output_type": "stream",
     "text": [
      "Find the four users & which sites they (each) visited more than 10 times:\n"
     ]
    },
    {
     "data": {
      "text/plain": [
       "[['LC3C7E', {'3POLC': 15}],\n",
       " ['LC3A59', {'N0OTG': 26}],\n",
       " ['LC06C3', {'N0OTG': 25}],\n",
       " ['LC3C9D', {'N0OTG': 17}]]"
      ]
     },
     "execution_count": 7,
     "metadata": {},
     "output_type": "execute_result"
    }
   ],
   "source": [
    "print(\"Find the four users & which sites they (each) visited more than 10 times:\")\n",
    "[[key, ans[key]] for key in ans]"
   ]
  },
  {
   "cell_type": "markdown",
   "metadata": {},
   "source": [
    "##### Q3"
   ]
  },
  {
   "cell_type": "code",
   "execution_count": 8,
   "metadata": {},
   "outputs": [],
   "source": [
    "d1 = {}\n",
    "\n",
    "for i in range(len(df)):\n",
    "    user = df.iloc[i]['user_id']\n",
    "    site = df.iloc[i]['site_id']\n",
    "    time = df.iloc[i]['ts']\n",
    "    if user not in d1:\n",
    "        d1[user] = [time, site]\n",
    "    if time > d1[user][0]:\n",
    "        d1[user] = [time, site]\n",
    "        \n",
    "d2 = collections.defaultdict(int)\n",
    "for user in d1:\n",
    "    site = d1[user][1]\n",
    "    d2[site] += 1\n",
    "    \n",
    "ans = sorted([(k, d2[k]) for k in d2], key=lambda x: x[1], reverse=True)"
   ]
  },
  {
   "cell_type": "code",
   "execution_count": 9,
   "metadata": {
    "scrolled": true
   },
   "outputs": [
    {
     "name": "stdout",
     "output_type": "stream",
     "text": [
      "top three sites:\n",
      "[('5NPAU', 992), ('N0OTG', 561), ('QGO3G', 289), ('GVOFK', 42), ('3POLC', 28), ('RT9Z6', 2), ('JSUUP', 1), ('EUZ/Q', 1)]\n"
     ]
    }
   ],
   "source": [
    "print(\"top three sites:\")\n",
    "print(ans)"
   ]
  },
  {
   "cell_type": "markdown",
   "metadata": {},
   "source": [
    "##### Q4"
   ]
  },
  {
   "cell_type": "code",
   "execution_count": 10,
   "metadata": {
    "scrolled": true
   },
   "outputs": [
    {
     "data": {
      "text/html": [
       "<div>\n",
       "<style scoped>\n",
       "    .dataframe tbody tr th:only-of-type {\n",
       "        vertical-align: middle;\n",
       "    }\n",
       "\n",
       "    .dataframe tbody tr th {\n",
       "        vertical-align: top;\n",
       "    }\n",
       "\n",
       "    .dataframe thead th {\n",
       "        text-align: right;\n",
       "    }\n",
       "</style>\n",
       "<table border=\"1\" class=\"dataframe\">\n",
       "  <thead>\n",
       "    <tr style=\"text-align: right;\">\n",
       "      <th></th>\n",
       "      <th>ts</th>\n",
       "      <th>user_id</th>\n",
       "      <th>site_id</th>\n",
       "    </tr>\n",
       "  </thead>\n",
       "  <tbody>\n",
       "    <tr>\n",
       "      <th>0</th>\n",
       "      <td>2019-02-01 00:01:24</td>\n",
       "      <td>LC36FC</td>\n",
       "      <td>N0OTG</td>\n",
       "    </tr>\n",
       "    <tr>\n",
       "      <th>1</th>\n",
       "      <td>2019-02-01 00:10:19</td>\n",
       "      <td>LC39B6</td>\n",
       "      <td>N0OTG</td>\n",
       "    </tr>\n",
       "    <tr>\n",
       "      <th>2</th>\n",
       "      <td>2019-02-01 00:21:50</td>\n",
       "      <td>LC3500</td>\n",
       "      <td>N0OTG</td>\n",
       "    </tr>\n",
       "    <tr>\n",
       "      <th>3</th>\n",
       "      <td>2019-02-01 00:22:50</td>\n",
       "      <td>LC374F</td>\n",
       "      <td>N0OTG</td>\n",
       "    </tr>\n",
       "    <tr>\n",
       "      <th>4</th>\n",
       "      <td>2019-02-01 00:23:44</td>\n",
       "      <td>LCC1C3</td>\n",
       "      <td>QGO3G</td>\n",
       "    </tr>\n",
       "  </tbody>\n",
       "</table>\n",
       "</div>"
      ],
      "text/plain": [
       "                    ts user_id site_id\n",
       "0  2019-02-01 00:01:24  LC36FC   N0OTG\n",
       "1  2019-02-01 00:10:19  LC39B6   N0OTG\n",
       "2  2019-02-01 00:21:50  LC3500   N0OTG\n",
       "3  2019-02-01 00:22:50  LC374F   N0OTG\n",
       "4  2019-02-01 00:23:44  LCC1C3   QGO3G"
      ]
     },
     "execution_count": 10,
     "metadata": {},
     "output_type": "execute_result"
    }
   ],
   "source": [
    "dfq = pd.DataFrame(df, columns=['ts', 'user_id', 'site_id'])\n",
    "dfq.head()"
   ]
  },
  {
   "cell_type": "code",
   "execution_count": 11,
   "metadata": {},
   "outputs": [],
   "source": [
    "d = {}\n",
    "for i in range(len(dfq)):\n",
    "    time = dfq.iloc[i]['ts']\n",
    "    user = dfq.iloc[i]['user_id']\n",
    "    site = dfq.iloc[i]['site_id']\n",
    "    if user not in d:\n",
    "        d[user] = [[time, site], [time, site]]\n",
    "    if time < d[user][0][0]:\n",
    "        d[user][0] = [time, site]\n",
    "    elif time > d[user][1][0]:\n",
    "        d[user][1] = [time, site]\n",
    "\n",
    "ans = 0\n",
    "for user in d:\n",
    "    if d[user][0][1] == d[user][1][1]:\n",
    "        ans += 1"
   ]
  },
  {
   "cell_type": "code",
   "execution_count": 12,
   "metadata": {},
   "outputs": [
    {
     "name": "stdout",
     "output_type": "stream",
     "text": [
      "Compute the number of users whose first/last visits are to the same website. What is the number?\n",
      "1670\n"
     ]
    }
   ],
   "source": [
    "print(\"Compute the number of users whose first/last visits are to the same website. What is the number?\")\n",
    "print(ans)"
   ]
  },
  {
   "cell_type": "code",
   "execution_count": null,
   "metadata": {},
   "outputs": [],
   "source": []
  }
 ],
 "metadata": {
  "kernelspec": {
   "display_name": "Python 3",
   "language": "python",
   "name": "python3"
  },
  "language_info": {
   "codemirror_mode": {
    "name": "ipython",
    "version": 3
   },
   "file_extension": ".py",
   "mimetype": "text/x-python",
   "name": "python",
   "nbconvert_exporter": "python",
   "pygments_lexer": "ipython3",
   "version": "3.7.3"
  }
 },
 "nbformat": 4,
 "nbformat_minor": 2
}
